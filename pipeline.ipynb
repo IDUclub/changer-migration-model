{
 "cells": [
  {
   "cell_type": "markdown",
   "metadata": {},
   "source": [
    "# 0. Импорт и загрузка данных"
   ]
  },
  {
   "cell_type": "code",
   "execution_count": null,
   "metadata": {},
   "outputs": [],
   "source": [
    "# Зависимости не дружат, приходится переустанавливать отдельно\n",
    "%pip install --no-deps scikit-mobility==1.3.1 geopandas==1.1.0 -qq"
   ]
  },
  {
   "cell_type": "markdown",
   "metadata": {},
   "source": [
    "## 0.1 Импорт"
   ]
  },
  {
   "cell_type": "code",
   "execution_count": 4,
   "metadata": {},
   "outputs": [],
   "source": [
    "import osmnx as ox\n",
    "\n",
    "from changer_migration.planter import *\n",
    "from changer_migration.model import MigrationFlowModel\n",
    "from changer_migration.ueqi import count_change_capacity, get_ueqi"
   ]
  },
  {
   "cell_type": "markdown",
   "metadata": {},
   "source": [
    "## 0.2 Загрузка и подготовка данных"
   ]
  },
  {
   "cell_type": "markdown",
   "metadata": {},
   "source": [
    "### 0.2.1 Данные из и для TownsNet"
   ]
  },
  {
   "cell_type": "code",
   "execution_count": null,
   "metadata": {},
   "outputs": [
    {
     "name": "stdout",
     "output_type": "stream",
     "text": [
      "CPU times: total: 4 s\n",
      "Wall time: 4.15 s\n"
     ]
    }
   ],
   "source": [
    "# 0) Входные пути\n",
    "REGION_PKL = \"data/lo_region.pickle\"        # pickle с Region\n",
    "MATRIX_DIR = \"data/provision\"               # где лежат *_links.parquet\n",
    "SEED = 42\n",
    "\n",
    "region = MigrationFlowModel.from_pickle(REGION_PKL, seed=SEED)"
   ]
  },
  {
   "cell_type": "code",
   "execution_count": null,
   "metadata": {},
   "outputs": [
    {
     "name": "stdout",
     "output_type": "stream",
     "text": [
      "CPU times: total: 141 ms\n",
      "Wall time: 222 ms\n"
     ]
    }
   ],
   "source": [
    "supporting_cities = gpd.read_parquet(\"data/1_polygons.parquet\") # Опорные города ЛО\n",
    "anchor_settlement = pd.read_csv('data/anchor_settlement.csv') # Города/деревни ЛО\n",
    "ueqi_df = region.calculate_ueqi() # Расчет UEQI по новой формуле"
   ]
  },
  {
   "cell_type": "markdown",
   "metadata": {},
   "source": [
    "### 0.2.2 Первичное обновление UEQI для Planter\n",
    "потому что мы не знаем как подсчитаны старые UEQI для городов"
   ]
  },
  {
   "cell_type": "code",
   "execution_count": null,
   "metadata": {},
   "outputs": [
    {
     "name": "stdout",
     "output_type": "stream",
     "text": [
      "Class instance loaded from data/wff_1812 new.pkl\n",
      "CPU times: total: 13.4 s\n",
      "Wall time: 15.4 s\n"
     ]
    }
   ],
   "source": [
    "# Загрузка модели\n",
    "wff = WorkForceFlows.from_pickle('data/wff_1812 new.pkl')"
   ]
  },
  {
   "cell_type": "code",
   "execution_count": null,
   "metadata": {},
   "outputs": [
    {
     "name": "stdout",
     "output_type": "stream",
     "text": [
      "CPU times: total: 15.6 ms\n",
      "Wall time: 4.01 ms\n"
     ]
    },
    {
     "data": {
      "text/html": [
       "<div>\n",
       "<style scoped>\n",
       "    .dataframe tbody tr th:only-of-type {\n",
       "        vertical-align: middle;\n",
       "    }\n",
       "\n",
       "    .dataframe tbody tr th {\n",
       "        vertical-align: top;\n",
       "    }\n",
       "\n",
       "    .dataframe thead th {\n",
       "        text-align: right;\n",
       "    }\n",
       "</style>\n",
       "<table border=\"1\" class=\"dataframe\">\n",
       "  <thead>\n",
       "    <tr style=\"text-align: right;\">\n",
       "      <th></th>\n",
       "      <th>town_name</th>\n",
       "      <th>population</th>\n",
       "      <th>geometry</th>\n",
       "      <th>capacity_cafe__coffee</th>\n",
       "      <th>capacity_kindergarten</th>\n",
       "      <th>capacity_school</th>\n",
       "      <th>capacity_public_transport_stop</th>\n",
       "      <th>capacity_library</th>\n",
       "      <th>capacity_parking</th>\n",
       "      <th>capacity_railway_station</th>\n",
       "      <th>...</th>\n",
       "      <th>count_car_service</th>\n",
       "      <th>count_fire_station</th>\n",
       "      <th>settlement_name</th>\n",
       "      <th>district_name</th>\n",
       "      <th>ueqi_residential</th>\n",
       "      <th>ueqi_street_networks</th>\n",
       "      <th>ueqi_green_spaces</th>\n",
       "      <th>ueqi_public_and_business_infrastructure</th>\n",
       "      <th>ueqi_social_and_leisure_infrastructure</th>\n",
       "      <th>ueqi_citywide_space</th>\n",
       "    </tr>\n",
       "    <tr>\n",
       "      <th>id</th>\n",
       "      <th></th>\n",
       "      <th></th>\n",
       "      <th></th>\n",
       "      <th></th>\n",
       "      <th></th>\n",
       "      <th></th>\n",
       "      <th></th>\n",
       "      <th></th>\n",
       "      <th></th>\n",
       "      <th></th>\n",
       "      <th></th>\n",
       "      <th></th>\n",
       "      <th></th>\n",
       "      <th></th>\n",
       "      <th></th>\n",
       "      <th></th>\n",
       "      <th></th>\n",
       "      <th></th>\n",
       "      <th></th>\n",
       "      <th></th>\n",
       "      <th></th>\n",
       "    </tr>\n",
       "  </thead>\n",
       "  <tbody>\n",
       "    <tr>\n",
       "      <th>121</th>\n",
       "      <td>Бокситогорск</td>\n",
       "      <td>8001</td>\n",
       "      <td>POINT (548021.065 6593118.772)</td>\n",
       "      <td>250.0</td>\n",
       "      <td>1500.0</td>\n",
       "      <td>1000.0</td>\n",
       "      <td>1500.0</td>\n",
       "      <td>500.0</td>\n",
       "      <td>2500.0</td>\n",
       "      <td>1250.0</td>\n",
       "      <td>...</td>\n",
       "      <td>0</td>\n",
       "      <td>0</td>\n",
       "      <td>Бокситогорское городское поселение</td>\n",
       "      <td>Бокситогорский муниципальный район</td>\n",
       "      <td>49.994</td>\n",
       "      <td>81.24</td>\n",
       "      <td>46.869</td>\n",
       "      <td>100.0</td>\n",
       "      <td>49.994</td>\n",
       "      <td>9.374</td>\n",
       "    </tr>\n",
       "  </tbody>\n",
       "</table>\n",
       "<p>1 rows × 101 columns</p>\n",
       "</div>"
      ],
      "text/plain": [
       "        town_name  population                        geometry  \\\n",
       "id                                                              \n",
       "121  Бокситогорск        8001  POINT (548021.065 6593118.772)   \n",
       "\n",
       "     capacity_cafe__coffee  capacity_kindergarten  capacity_school  \\\n",
       "id                                                                   \n",
       "121                  250.0                 1500.0           1000.0   \n",
       "\n",
       "     capacity_public_transport_stop  capacity_library  capacity_parking  \\\n",
       "id                                                                        \n",
       "121                          1500.0             500.0            2500.0   \n",
       "\n",
       "     capacity_railway_station  ...  count_car_service  count_fire_station  \\\n",
       "id                             ...                                          \n",
       "121                    1250.0  ...                  0                   0   \n",
       "\n",
       "                        settlement_name                       district_name  \\\n",
       "id                                                                            \n",
       "121  Бокситогорское городское поселение  Бокситогорский муниципальный район   \n",
       "\n",
       "     ueqi_residential  ueqi_street_networks  ueqi_green_spaces  \\\n",
       "id                                                               \n",
       "121            49.994                 81.24             46.869   \n",
       "\n",
       "     ueqi_public_and_business_infrastructure  \\\n",
       "id                                             \n",
       "121                                    100.0   \n",
       "\n",
       "     ueqi_social_and_leisure_infrastructure  ueqi_citywide_space  \n",
       "id                                                                \n",
       "121                                  49.994                9.374  \n",
       "\n",
       "[1 rows x 101 columns]"
      ]
     },
     "execution_count": 6,
     "metadata": {},
     "output_type": "execute_result"
    }
   ],
   "source": [
    "ueqi_df[ueqi_df.town_name == 'Бокситогорск']"
   ]
  },
  {
   "cell_type": "code",
   "execution_count": null,
   "metadata": {},
   "outputs": [
    {
     "name": "stdout",
     "output_type": "stream",
     "text": [
      "Updated parameters for Ленинградская область, Бокситогорск\n",
      "Recalculating after updating parameters\n"
     ]
    },
    {
     "name": "stderr",
     "output_type": "stream",
     "text": [
      "100%|██████████| 1106/1106 [00:02<00:00, 544.46it/s]\n"
     ]
    },
    {
     "name": "stdout",
     "output_type": "stream",
     "text": [
      "Recalculation complete.\n",
      "CPU times: total: 10.3 s\n",
      "Wall time: 11.6 s\n"
     ]
    }
   ],
   "source": [
    "name = \"Ленинградская область, Бокситогорск\" # Можно узнать все города из wff.cities\n",
    "\n",
    "# Можно взять параметры из ueqi_df[ueqi_df.town_name == 'Мурино'] ← ВАЖНО! Убедитесь, что вы используете правильное название города без области, но для wff с областью\n",
    "new_params = { # Первичное обновление UEQI для Planter\n",
    "    \"ueqi_residential\":                         49.994,\n",
    "    \"ueqi_street_networks\":                     81.24,\n",
    "    \"ueqi_green_spaces\":                        46.869,\n",
    "    \"ueqi_public_and_business_infrastructure\":  100.0,\n",
    "    \"ueqi_social_and_leisure_infrastructure\":   49.994,\n",
    "    \"ueqi_citywide_space\":                      9.374,\n",
    "}\n",
    "\n",
    "wff.update_city_params(name, new_params)\n",
    "wff.recalculate_after_update()"
   ]
  },
  {
   "cell_type": "code",
   "execution_count": null,
   "metadata": {},
   "outputs": [
    {
     "name": "stdout",
     "output_type": "stream",
     "text": [
      "CPU times: total: 312 ms\n",
      "Wall time: 321 ms\n"
     ]
    }
   ],
   "source": [
    "# Выделение городов только по ЛО и сохранение новых значений постоянного населения\n",
    "area = ox.geocode_to_gdf(\"Ленинградская область\")\n",
    "lo_cities = wff.cities.clip(area.to_crs(3857)).copy()\n",
    "lo_cities['population'] = lo_cities['population'] + lo_cities['flows_in'] - lo_cities['flows_out']\n",
    "lo_cities['region_city'] = lo_cities['region_city'].str.split(', ', expand=True)[1] # У TownsNet названия городов без областей, поэтому нужно удалить их из названия\n",
    "lo_cities[['region_city','population']].to_csv(\"data/population.csv\", index=False)"
   ]
  },
  {
   "cell_type": "markdown",
   "metadata": {},
   "source": [
    "### 0.2.3 Обновление населения"
   ]
  },
  {
   "cell_type": "code",
   "execution_count": null,
   "metadata": {},
   "outputs": [
    {
     "name": "stdout",
     "output_type": "stream",
     "text": [
      "CPU times: total: 3.31 s\n",
      "Wall time: 3.54 s\n"
     ]
    },
    {
     "data": {
      "text/plain": [
       "town_name                                               Бокситогорск\n",
       "population                                                   15849.0\n",
       "geometry                 POINT (548021.0652682963 6593118.771699116)\n",
       "capacity_cafe__coffee                                          250.0\n",
       "capacity_kindergarten                                         1500.0\n",
       "                                            ...                     \n",
       "count_railway_station                                              0\n",
       "count_car_service                                                  0\n",
       "count_fire_station                                                 0\n",
       "settlement_name                   Бокситогорское городское поселение\n",
       "district_name                     Бокситогорский муниципальный район\n",
       "Name: 121, Length: 95, dtype: object"
      ]
     },
     "execution_count": 10,
     "metadata": {},
     "output_type": "execute_result"
    }
   ],
   "source": [
    "population = pd.read_csv('data/population.csv') \n",
    "region.update_population(population)\n",
    "\n",
    "ueqi_df = region.calculate_ueqi()\n",
    "region[121] # Проверим Бокситогорск\n",
    "\n",
    "### ====== Принимаем это за базовое население ====== ###"
   ]
  },
  {
   "cell_type": "markdown",
   "metadata": {},
   "source": [
    "# 1. Выбор города"
   ]
  },
  {
   "cell_type": "code",
   "execution_count": null,
   "metadata": {},
   "outputs": [
    {
     "name": "stdout",
     "output_type": "stream",
     "text": [
      "CPU times: total: 0 ns\n",
      "Wall time: 9.02 ms\n"
     ]
    },
    {
     "data": {
      "text/html": [
       "<div>\n",
       "<style scoped>\n",
       "    .dataframe tbody tr th:only-of-type {\n",
       "        vertical-align: middle;\n",
       "    }\n",
       "\n",
       "    .dataframe tbody tr th {\n",
       "        vertical-align: top;\n",
       "    }\n",
       "\n",
       "    .dataframe thead th {\n",
       "        text-align: right;\n",
       "    }\n",
       "</style>\n",
       "<table border=\"1\" class=\"dataframe\">\n",
       "  <thead>\n",
       "    <tr style=\"text-align: right;\">\n",
       "      <th></th>\n",
       "      <th>region_city</th>\n",
       "      <th>ueqi_residential</th>\n",
       "      <th>ueqi_street_networks</th>\n",
       "      <th>ueqi_green_spaces</th>\n",
       "      <th>ueqi_public_and_business_infrastructure</th>\n",
       "      <th>ueqi_social_and_leisure_infrastructure</th>\n",
       "      <th>ueqi_citywide_space</th>\n",
       "    </tr>\n",
       "  </thead>\n",
       "  <tbody>\n",
       "    <tr>\n",
       "      <th>106</th>\n",
       "      <td>Ленинградская область, Бокситогорск</td>\n",
       "      <td>49.994</td>\n",
       "      <td>81.24</td>\n",
       "      <td>46.869</td>\n",
       "      <td>100.0</td>\n",
       "      <td>49.994</td>\n",
       "      <td>9.374</td>\n",
       "    </tr>\n",
       "  </tbody>\n",
       "</table>\n",
       "</div>"
      ],
      "text/plain": [
       "                             region_city  ueqi_residential  \\\n",
       "106  Ленинградская область, Бокситогорск            49.994   \n",
       "\n",
       "     ueqi_street_networks  ueqi_green_spaces  \\\n",
       "106                 81.24             46.869   \n",
       "\n",
       "     ueqi_public_and_business_infrastructure  \\\n",
       "106                                    100.0   \n",
       "\n",
       "     ueqi_social_and_leisure_infrastructure  ueqi_citywide_space  \n",
       "106                                  49.994                9.374  "
      ]
     },
     "execution_count": 11,
     "metadata": {},
     "output_type": "execute_result"
    }
   ],
   "source": [
    "name = 'Бокситогорск'\n",
    "get_ueqi(wff, name) # Просмотр нынешных значений UEQI для города"
   ]
  },
  {
   "cell_type": "markdown",
   "metadata": {},
   "source": [
    "# 2. Изменение UEQI"
   ]
  },
  {
   "cell_type": "code",
   "execution_count": null,
   "metadata": {},
   "outputs": [
    {
     "name": "stdout",
     "output_type": "stream",
     "text": [
      "Updated parameters for Ленинградская область, Бокситогорск\n",
      "Recalculating after updating parameters\n"
     ]
    },
    {
     "name": "stderr",
     "output_type": "stream",
     "text": [
      "100%|██████████| 1106/1106 [00:01<00:00, 563.47it/s]\n"
     ]
    },
    {
     "name": "stdout",
     "output_type": "stream",
     "text": [
      "Recalculation complete.\n",
      "CPU times: total: 10.2 s\n",
      "Wall time: 10.4 s\n"
     ]
    }
   ],
   "source": [
    "new_params = {\n",
    "    # \"ueqi_residential\":                         49.994,\n",
    "    # \"ueqi_street_networks\":                     81.24,\n",
    "    \"ueqi_green_spaces\":                        56.869, # +10 UEQI\n",
    "    # \"ueqi_public_and_business_infrastructure\":  100.0,\n",
    "    # \"ueqi_social_and_leisure_infrastructure\":   49.994,\n",
    "    # \"ueqi_citywide_space\":                      9.374,\n",
    "}\n",
    "\n",
    "# Update the city data in the DataFrame\n",
    "wff.update_city_params('Ленинградская область, Бокситогорск', new_params)\n",
    "wff.recalculate_after_update()\n",
    "\n",
    "# Выделение области\n",
    "area = ox.geocode_to_gdf(\"Ленинградская область\")\n",
    "highlighted_cities = wff.cities.clip(area.to_crs(3857)).copy()\n",
    "highlighted_cities['population'] = highlighted_cities['population'] + highlighted_cities['flows_in'] - highlighted_cities['flows_out']\n",
    "highlighted_cities['region_city'] = highlighted_cities['region_city'].str.split(', ', expand=True)[1] # У TownsNet названия городов без областей, поэтому нужно удалить их из названия\n",
    "highlighted_cities[['region_city', 'population']].to_csv(\"data/population_new.csv\", index=False)"
   ]
  },
  {
   "cell_type": "code",
   "execution_count": null,
   "metadata": {},
   "outputs": [
    {
     "name": "stdout",
     "output_type": "stream",
     "text": [
      "CPU times: total: 3.53 s\n",
      "Wall time: 3.65 s\n"
     ]
    },
    {
     "data": {
      "text/plain": [
       "town_name                                               Бокситогорск\n",
       "population                                                   20200.0\n",
       "geometry                 POINT (548021.0652682963 6593118.771699116)\n",
       "capacity_cafe__coffee                                          250.0\n",
       "capacity_kindergarten                                         1500.0\n",
       "                                            ...                     \n",
       "count_railway_station                                              0\n",
       "count_car_service                                                  0\n",
       "count_fire_station                                                 0\n",
       "settlement_name                   Бокситогорское городское поселение\n",
       "district_name                     Бокситогорский муниципальный район\n",
       "Name: 121, Length: 95, dtype: object"
      ]
     },
     "execution_count": 13,
     "metadata": {},
     "output_type": "execute_result"
    }
   ],
   "source": [
    "# Обновим население городов после изменения UEQI\n",
    "population_new = pd.read_csv('data/population_new.csv') \n",
    "region.update_population(population_new)\n",
    "region[121] # Проверим Бокситогорск\n",
    "\n",
    "### ====== Принимаем это за новое население ====== ###"
   ]
  },
  {
   "cell_type": "markdown",
   "metadata": {},
   "source": [
    "# 3. Расчет матриц переходов по новым UEQI"
   ]
  },
  {
   "cell_type": "markdown",
   "metadata": {},
   "source": [
    "## 3.1 Расчет количества и добавление необходимого сервиса"
   ]
  },
  {
   "cell_type": "code",
   "execution_count": null,
   "metadata": {},
   "outputs": [
    {
     "name": "stdout",
     "output_type": "stream",
     "text": [
      "Изменение capacity на 10% для города Бокситогорск: 2020 мест\n",
      "CPU times: total: 0 ns\n",
      "Wall time: 1e+03 μs\n"
     ]
    }
   ],
   "source": [
    "# Посмотим, на сколько нужно поднять\n",
    "change_capacity = count_change_capacity(region.towns, name, 10)\n",
    "print(f\"Изменение capacity на 10% для города {name}: {change_capacity} мест\")"
   ]
  },
  {
   "cell_type": "code",
   "execution_count": null,
   "metadata": {},
   "outputs": [
    {
     "name": "stdout",
     "output_type": "stream",
     "text": [
      "Случайный обновленный сервис: playground\n",
      "======= Таблица для проверки новых сервисов =======\n",
      "CPU times: total: 297 ms\n",
      "Wall time: 463 ms\n"
     ]
    },
    {
     "data": {
      "text/html": [
       "<div>\n",
       "<style scoped>\n",
       "    .dataframe tbody tr th:only-of-type {\n",
       "        vertical-align: middle;\n",
       "    }\n",
       "\n",
       "    .dataframe tbody tr th {\n",
       "        vertical-align: top;\n",
       "    }\n",
       "\n",
       "    .dataframe thead th {\n",
       "        text-align: right;\n",
       "    }\n",
       "</style>\n",
       "<table border=\"1\" class=\"dataframe\">\n",
       "  <thead>\n",
       "    <tr style=\"text-align: right;\">\n",
       "      <th></th>\n",
       "      <th>town</th>\n",
       "      <th>service_type</th>\n",
       "      <th>geometry</th>\n",
       "      <th>capacity</th>\n",
       "    </tr>\n",
       "  </thead>\n",
       "  <tbody>\n",
       "    <tr>\n",
       "      <th>181</th>\n",
       "      <td>Бокситогорск</td>\n",
       "      <td>playground</td>\n",
       "      <td>POINT (547517.067 6593154.661)</td>\n",
       "      <td>250</td>\n",
       "    </tr>\n",
       "    <tr>\n",
       "      <th>182</th>\n",
       "      <td>Бокситогорск</td>\n",
       "      <td>playground</td>\n",
       "      <td>POINT (547984.392 6593333.93)</td>\n",
       "      <td>2020</td>\n",
       "    </tr>\n",
       "  </tbody>\n",
       "</table>\n",
       "</div>"
      ],
      "text/plain": [
       "             town service_type                        geometry  capacity\n",
       "181  Бокситогорск   playground  POINT (547517.067 6593154.661)       250\n",
       "182  Бокситогорск   playground   POINT (547984.392 6593333.93)      2020"
      ]
     },
     "execution_count": 15,
     "metadata": {},
     "output_type": "execute_result"
    }
   ],
   "source": [
    "updated_service = region.update_service(name, change_capacity, new_params)\n",
    "print(f'Случайный обновленный сервис: {updated_service}')\n",
    "\n",
    "print('======= Таблица для проверки новых сервисов =======')\n",
    "region.services[(region.services.town.str.contains(name)) & (region.services.service_type == updated_service)]"
   ]
  },
  {
   "cell_type": "markdown",
   "metadata": {},
   "source": [
    "## 3.2 Расчет матриц переходов"
   ]
  },
  {
   "cell_type": "code",
   "execution_count": null,
   "metadata": {},
   "outputs": [
    {
     "name": "stdout",
     "output_type": "stream",
     "text": [
      "✔ playground      was processed\n",
      "CPU times: total: 3.72 s\n",
      "Wall time: 4.84 s\n"
     ]
    }
   ],
   "source": [
    "region.calculate_provision([updated_service])"
   ]
  },
  {
   "cell_type": "markdown",
   "metadata": {},
   "source": [
    "# 4. Расчет данных для городов"
   ]
  },
  {
   "cell_type": "markdown",
   "metadata": {},
   "source": [
    "## 4.1 Чтение матриц переходов"
   ]
  },
  {
   "cell_type": "code",
   "execution_count": null,
   "metadata": {},
   "outputs": [
    {
     "data": {
      "application/vnd.jupyter.widget-view+json": {
       "model_id": "f4c4d6345b674a24afe6ec9388cff68f",
       "version_major": 2,
       "version_minor": 0
      },
      "text/plain": [
       "Загрузка матриц связей:   0%|          | 0/6 [00:00<?, ?it/s]"
      ]
     },
     "metadata": {},
     "output_type": "display_data"
    },
    {
     "name": "stdout",
     "output_type": "stream",
     "text": [
      "Результат загрузки матриц связей:\n",
      "{'loaded': ['playground (updated)', 'square__boulevard__forest_park (original)', 'public_space (original)', 'park (updated)', 'amusement_park (original)', 'dog_park (original)'], 'missing': [], 'errors': []}\n",
      "CPU times: total: 3.52 s\n",
      "Wall time: 4.16 s\n"
     ]
    }
   ],
   "source": [
    "# Для сравнения карты визуально нужно запустить разделы 4.1-5 со старым и новым населением и 2 раза запустить fmap (в разных ячейках)\n",
    "UPDATED = True                              # брать обновлённые из data/provision/updated\n",
    "\n",
    "if UPDATED:\n",
    "    population = pd.read_csv('data/population_new.csv') \n",
    "    region.update_population(population)\n",
    "else:\n",
    "    population = pd.read_csv('data/population.csv') \n",
    "    region.update_population(population)\n",
    "\n",
    "region.load_migration_matrix(['RECREATION'], \n",
    "                            matrix_dir='data/provision',\n",
    "                            use_updated=UPDATED, # Внимание! Если True, использовать новое население. Если False, использовать базовое.\n",
    "                            average=True,\n",
    "                            anchors=anchor_settlement)"
   ]
  },
  {
   "cell_type": "code",
   "execution_count": null,
   "metadata": {},
   "outputs": [
    {
     "name": "stdout",
     "output_type": "stream",
     "text": [
      "CPU times: total: 2.09 s\n",
      "Wall time: 2.32 s\n"
     ]
    }
   ],
   "source": [
    "mobility = region.analyze_mobility(anchor_threshold=90)"
   ]
  },
  {
   "cell_type": "markdown",
   "metadata": {},
   "source": [
    "# 5. Генерация карты миграции"
   ]
  },
  {
   "cell_type": "code",
   "execution_count": null,
   "metadata": {},
   "outputs": [],
   "source": [
    "fmap = region.create_map()\n",
    "fmap"
   ]
  }
 ],
 "metadata": {
  "kernelspec": {
   "display_name": ".venv",
   "language": "python",
   "name": "python3"
  },
  "language_info": {
   "codemirror_mode": {
    "name": "ipython",
    "version": 3
   },
   "file_extension": ".py",
   "mimetype": "text/x-python",
   "name": "python",
   "nbconvert_exporter": "python",
   "pygments_lexer": "ipython3",
   "version": "3.10.11"
  }
 },
 "nbformat": 4,
 "nbformat_minor": 2
}
