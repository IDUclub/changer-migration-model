{
 "cells": [
  {
   "cell_type": "markdown",
   "metadata": {},
   "source": [
    "# 0. Импорт и загрузка данных"
   ]
  },
  {
   "cell_type": "code",
   "execution_count": null,
   "metadata": {},
   "outputs": [],
   "source": [
    "!pip install 'scikit-mobility==1.3.1' 'geopandas==1.1.0'"
   ]
  },
  {
   "cell_type": "markdown",
   "metadata": {},
   "source": [
    "## 0.1 Импорт"
   ]
  },
  {
   "cell_type": "code",
   "execution_count": null,
   "metadata": {},
   "outputs": [],
   "source": [
    "import numpy as np\n",
    "import osmnx as ox\n",
    "import random\n",
    "\n",
    "from changer_migration.model import MigrationFlowModel\n",
    "from changer_migration.planter import *\n",
    "from changer_migration.ueqi import count_change_capacity"
   ]
  },
  {
   "cell_type": "markdown",
   "metadata": {},
   "source": [
    "## 0.2 Функции"
   ]
  },
  {
   "cell_type": "code",
   "execution_count": null,
   "metadata": {},
   "outputs": [],
   "source": [
    "# Получение значений UEQI для города\n",
    "def get_ueqi(wff, name):\n",
    "    city = wff.cities[wff.cities['region_city'].str.contains(name)]\n",
    "    return city[\n",
    "                ['region_city',\n",
    "                \"ueqi_residential\",\n",
    "                \"ueqi_street_networks\",\n",
    "                \"ueqi_green_spaces\",\n",
    "                \"ueqi_public_and_business_infrastructure\",\n",
    "                \"ueqi_social_and_leisure_infrastructure\",\n",
    "                \"ueqi_citywide_space\"]\n",
    "            ].round(3)"
   ]
  },
  {
   "cell_type": "markdown",
   "metadata": {},
   "source": [
    "## 0.3 Загрузка и подготовка данных"
   ]
  },
  {
   "cell_type": "markdown",
   "metadata": {},
   "source": [
    "### 0.3.1 Данные из и для TownsNet"
   ]
  },
  {
   "cell_type": "code",
   "execution_count": null,
   "metadata": {},
   "outputs": [],
   "source": [
    "# 0) Входные пути\n",
    "REGION_PKL = \"data/lo_region.pickle\"        # pickle с Region\n",
    "MATRIX_DIR = \"data/provision\"               # где лежат *_links.parquet\n",
    "SEED = 42\n",
    "\n",
    "region = MigrationFlowModel.from_pickle(REGION_PKL, seed=SEED)"
   ]
  },
  {
   "cell_type": "code",
   "execution_count": null,
   "metadata": {},
   "outputs": [],
   "source": [
    "supporting_cities = gpd.read_parquet(\"data/1_polygons.parquet\") # Опорные города ЛО\n",
    "anchor_settlement = pd.read_csv('data/anchor_settlement.csv') # Города/деревни ЛО\n",
    "ueqi_df = region.calculate_ueqi() # Расчет UEQI по новой формуле"
   ]
  },
  {
   "cell_type": "markdown",
   "metadata": {},
   "source": [
    "### 0.3.2 Первичное обновление UEQI для Planter\n",
    "потому что мы не знаем как подсчитаны старые UEQI для городов"
   ]
  },
  {
   "cell_type": "code",
   "execution_count": null,
   "metadata": {},
   "outputs": [],
   "source": [
    "# Загрузка модели\n",
    "wff = WorkForceFlows.from_pickle('data/wff_1812 new.pkl')"
   ]
  },
  {
   "cell_type": "code",
   "execution_count": null,
   "metadata": {},
   "outputs": [],
   "source": [
    "ueqi_df[ueqi_df.town_name == 'Бокситогорск']"
   ]
  },
  {
   "cell_type": "code",
   "execution_count": null,
   "metadata": {},
   "outputs": [],
   "source": [
    "name = \"Ленинградская область, Бокситогорск\" # Можно узнать все города из wff.cities\n",
    "\n",
    "# Можно взять параметры из ueqi_df[ueqi_df.town_name == 'Мурино'] ← ВАЖНО! Убедитесь, что вы используете правильное название города без области, но для wff с областью\n",
    "new_params = { # Первичное обновление UEQI для Planter\n",
    "    \"ueqi_residential\":                         49.994,\n",
    "    \"ueqi_street_networks\":                     81.24,\n",
    "    \"ueqi_green_spaces\":                        46.869,\n",
    "    \"ueqi_public_and_business_infrastructure\":  100.0,\n",
    "    \"ueqi_social_and_leisure_infrastructure\":   49.994,\n",
    "    \"ueqi_citywide_space\":                      9.374,\n",
    "}\n",
    "\n",
    "wff.update_city_params(name, new_params)\n",
    "wff.recalculate_after_update()"
   ]
  },
  {
   "cell_type": "code",
   "execution_count": null,
   "metadata": {},
   "outputs": [],
   "source": [
    "# Выделение городов только по ЛО и сохранение новых значений постоянного населения\n",
    "area = ox.geocode_to_gdf(\"Ленинградская область\")\n",
    "lo_cities = wff.cities.clip(area.to_crs(3857)).copy()\n",
    "lo_cities['population'] = lo_cities['population'] + lo_cities['flows_in'] - lo_cities['flows_out']\n",
    "lo_cities['region_city'] = lo_cities['region_city'].str.split(', ', expand=True)[1] # У TownsNet названия городов без областей, поэтому нужно удалить их из названия\n",
    "lo_cities[['region_city','population']].to_csv(\"data/population.csv\", index=False)"
   ]
  },
  {
   "cell_type": "markdown",
   "metadata": {},
   "source": [
    "### 0.2.3 Обновление населения"
   ]
  },
  {
   "cell_type": "code",
   "execution_count": null,
   "metadata": {},
   "outputs": [],
   "source": [
    "# update_population(region.model, towns_df, path='data/population.csv')\n",
    "\n",
    "population = pd.read_csv('data/population.csv') \n",
    "region.update_population(population)\n",
    "\n",
    "ueqi_df = region.calculate_ueqi()\n",
    "region[121] # Проверим Бокситогорск\n",
    "\n",
    "### ====== Принимаем это за базовое население ====== ###"
   ]
  },
  {
   "cell_type": "markdown",
   "metadata": {},
   "source": [
    "# 1. Выбор города"
   ]
  },
  {
   "cell_type": "code",
   "execution_count": null,
   "metadata": {},
   "outputs": [],
   "source": [
    "name = 'Бокситогорск'\n",
    "get_ueqi(wff, name) # Просмотр нынешных значений UEQI для города"
   ]
  },
  {
   "cell_type": "markdown",
   "metadata": {},
   "source": [
    "# 2. Изменение UEQI"
   ]
  },
  {
   "cell_type": "code",
   "execution_count": null,
   "metadata": {},
   "outputs": [],
   "source": [
    "new_params = {\n",
    "    # \"ueqi_residential\":                         49.994,\n",
    "    # \"ueqi_street_networks\":                     81.24,\n",
    "    \"ueqi_green_spaces\":                        56.869, # +10 UEQI\n",
    "    # \"ueqi_public_and_business_infrastructure\":  100.0,\n",
    "    # \"ueqi_social_and_leisure_infrastructure\":   49.994,\n",
    "    # \"ueqi_citywide_space\":                      9.374,\n",
    "}\n",
    "\n",
    "# Update the city data in the DataFrame\n",
    "wff.update_city_params('Ленинградская область, Бокситогорск', new_params)\n",
    "wff.recalculate_after_update()\n",
    "\n",
    "# Выделение области\n",
    "area = ox.geocode_to_gdf(\"Ленинградская область\")\n",
    "highlighted_cities = wff.cities.clip(area.to_crs(3857)).copy()\n",
    "highlighted_cities['population'] = highlighted_cities['population'] + highlighted_cities['flows_in'] - highlighted_cities['flows_out']\n",
    "highlighted_cities['region_city'] = highlighted_cities['region_city'].str.split(', ', expand=True)[1] # У TownsNet названия городов без областей, поэтому нужно удалить их из названия\n",
    "highlighted_cities[['region_city', 'population']].to_csv(\"data/population_new.csv\", index=False)"
   ]
  },
  {
   "cell_type": "code",
   "execution_count": null,
   "metadata": {},
   "outputs": [],
   "source": [
    "# Обновим население городов после изменения UEQI\n",
    "population_new = pd.read_csv('data/population_new.csv') \n",
    "region.update_population(population_new)\n",
    "region[121] # Проверим Бокситогорск\n",
    "\n",
    "### ====== Принимаем это за новое население ====== ###"
   ]
  },
  {
   "cell_type": "markdown",
   "metadata": {},
   "source": [
    "# 3. Расчет матриц переходов по новым UEQI"
   ]
  },
  {
   "cell_type": "markdown",
   "metadata": {},
   "source": [
    "## 3.1 Расчет количества и добавление необходимого сервиса"
   ]
  },
  {
   "cell_type": "code",
   "execution_count": null,
   "metadata": {},
   "outputs": [],
   "source": [
    "# Посмотим, на сколько нужно поднять\n",
    "change_capacity = count_change_capacity(region.towns, name, 10)\n",
    "print(f\"Изменение capacity на 10% для города {name}: {change_capacity} мест\")"
   ]
  },
  {
   "cell_type": "code",
   "execution_count": null,
   "metadata": {},
   "outputs": [],
   "source": [
    "updated_service = region.update_service(name, change_capacity, new_params)\n",
    "print(f'Случайный обновленный сервис: {updated_service}')\n",
    "\n",
    "print('======= Таблица для проверки новых сервисов =======')\n",
    "region.services[(region.services.town.str.contains(name)) & (region.services.service_type == updated_service)]"
   ]
  },
  {
   "cell_type": "markdown",
   "metadata": {},
   "source": [
    "## 3.2 Расчет матриц переходов"
   ]
  },
  {
   "cell_type": "code",
   "execution_count": null,
   "metadata": {},
   "outputs": [],
   "source": [
    "region.calculate_provision([updated_service])"
   ]
  },
  {
   "cell_type": "markdown",
   "metadata": {},
   "source": [
    "# 4. Расчет данных для городов"
   ]
  },
  {
   "cell_type": "markdown",
   "metadata": {},
   "source": [
    "## 4.1 Чтение матриц переходов"
   ]
  },
  {
   "cell_type": "code",
   "execution_count": null,
   "metadata": {},
   "outputs": [],
   "source": [
    "# Для сравнения карты визуально нужно запустить разделы 4.1-5 со старым и новым населением и 2 раза запустить fmap (в разных ячейках)\n",
    "UPDATED = True                              # брать обновлённые из data/provision/updated\n",
    "\n",
    "if UPDATED:\n",
    "    population = pd.read_csv('data/population_new.csv') \n",
    "    region.update_population(population)\n",
    "else:\n",
    "    population = pd.read_csv('data/population.csv') \n",
    "    region.update_population(population)\n",
    "\n",
    "region.load_migration_matrix(['RECREATION'], \n",
    "                            matrix_dir='data/provision',\n",
    "                            use_updated=UPDATED, # Внимание! Если True, использовать новое население. Если False, использовать базовое.\n",
    "                            average=True,\n",
    "                            anchors=anchor_settlement)"
   ]
  },
  {
   "cell_type": "code",
   "execution_count": null,
   "metadata": {},
   "outputs": [],
   "source": [
    "mobility = region.analyze_mobility(anchor_threshold=90)"
   ]
  },
  {
   "cell_type": "markdown",
   "metadata": {},
   "source": [
    "# 5. Генерация карты миграции"
   ]
  },
  {
   "cell_type": "code",
   "execution_count": null,
   "metadata": {},
   "outputs": [],
   "source": [
    "fmap = region.create_map()\n",
    "fmap"
   ]
  }
 ],
 "metadata": {
  "kernelspec": {
   "display_name": ".venv",
   "language": "python",
   "name": "python3"
  },
  "language_info": {
   "codemirror_mode": {
    "name": "ipython",
    "version": 3
   },
   "file_extension": ".py",
   "mimetype": "text/x-python",
   "name": "python",
   "nbconvert_exporter": "python",
   "pygments_lexer": "ipython3",
   "version": "3.10.11"
  }
 },
 "nbformat": 4,
 "nbformat_minor": 2
}
