{
 "cells": [
  {
   "cell_type": "markdown",
   "metadata": {},
   "source": [
    "# 0. Импорт и загрузка данных"
   ]
  },
  {
   "cell_type": "markdown",
   "metadata": {},
   "source": [
    "## 0.1 Импорт"
   ]
  },
  {
   "cell_type": "code",
   "execution_count": null,
   "metadata": {},
   "outputs": [],
   "source": [
    "import numpy as np\n",
    "import osmnx as ox\n",
    "import random\n",
    "\n",
    "from utils.base_model import BaseModel\n",
    "from utils.planter import *\n",
    "from utils.ueqi import count_change_capacity\n",
    "\n",
    "np.random.seed(0)\n",
    "random.seed(0)"
   ]
  },
  {
   "cell_type": "markdown",
   "metadata": {},
   "source": [
    "## 0.2 Функции"
   ]
  },
  {
   "cell_type": "code",
   "execution_count": null,
   "metadata": {},
   "outputs": [],
   "source": [
    "# Получение значений UEQI для города\n",
    "def get_ueqi(wff, name):\n",
    "    city = wff.cities[wff.cities['region_city'].str.contains(name)]\n",
    "    return city[\n",
    "                ['region_city',\n",
    "                \"ueqi_residential\",\n",
    "                \"ueqi_street_networks\",\n",
    "                \"ueqi_green_spaces\",\n",
    "                \"ueqi_public_and_business_infrastructure\",\n",
    "                \"ueqi_social_and_leisure_infrastructure\",\n",
    "                \"ueqi_citywide_space\"]\n",
    "            ].round(3)"
   ]
  },
  {
   "cell_type": "markdown",
   "metadata": {},
   "source": [
    "## 0.3 Загрузка и подготовка данных"
   ]
  },
  {
   "cell_type": "markdown",
   "metadata": {},
   "source": [
    "### 0.3.1 Данные из и для TownsNet"
   ]
  },
  {
   "cell_type": "code",
   "execution_count": 11,
   "metadata": {},
   "outputs": [],
   "source": [
    "region = BaseModel()\n",
    "region.from_pickle('data/lo_region.pickle') # Модель из TownsNet\n",
    "supporting_cities = gpd.read_parquet(\"data/1_polygons.parquet\") # Опорные города ЛО\n",
    "anchor_settlement = pd.read_csv('data/anchor_settlement.csv') # Города/деревни ЛО\n",
    "ueqi_df = region.calculate_ueqi() # Расчет UEQI по новой формуле"
   ]
  },
  {
   "cell_type": "markdown",
   "metadata": {},
   "source": [
    "### 0.3.2 Первичное обновление UEQI для Planter\n",
    "потому что мы не знаем как подсчитаны старые UEQI для городов"
   ]
  },
  {
   "cell_type": "code",
   "execution_count": 12,
   "metadata": {},
   "outputs": [
    {
     "name": "stdout",
     "output_type": "stream",
     "text": [
      "Class instance loaded from data/wff_1812 new.pkl\n"
     ]
    }
   ],
   "source": [
    "# Загрузка модели\n",
    "wff = WorkForceFlows.from_pickle('data/wff_1812 new.pkl')"
   ]
  },
  {
   "cell_type": "code",
   "execution_count": 13,
   "metadata": {},
   "outputs": [
    {
     "data": {
      "text/html": [
       "<div>\n",
       "<style scoped>\n",
       "    .dataframe tbody tr th:only-of-type {\n",
       "        vertical-align: middle;\n",
       "    }\n",
       "\n",
       "    .dataframe tbody tr th {\n",
       "        vertical-align: top;\n",
       "    }\n",
       "\n",
       "    .dataframe thead th {\n",
       "        text-align: right;\n",
       "    }\n",
       "</style>\n",
       "<table border=\"1\" class=\"dataframe\">\n",
       "  <thead>\n",
       "    <tr style=\"text-align: right;\">\n",
       "      <th></th>\n",
       "      <th>town_name</th>\n",
       "      <th>population</th>\n",
       "      <th>geometry</th>\n",
       "      <th>capacity_cafe__coffee</th>\n",
       "      <th>capacity_kindergarten</th>\n",
       "      <th>capacity_school</th>\n",
       "      <th>capacity_public_transport_stop</th>\n",
       "      <th>capacity_library</th>\n",
       "      <th>capacity_parking</th>\n",
       "      <th>capacity_railway_station</th>\n",
       "      <th>...</th>\n",
       "      <th>count_car_service</th>\n",
       "      <th>count_fire_station</th>\n",
       "      <th>settlement_name</th>\n",
       "      <th>district_name</th>\n",
       "      <th>ueqi_residential</th>\n",
       "      <th>ueqi_street_networks</th>\n",
       "      <th>ueqi_green_spaces</th>\n",
       "      <th>ueqi_public_and_business_infrastructure</th>\n",
       "      <th>ueqi_social_and_leisure_infrastructure</th>\n",
       "      <th>ueqi_citywide_space</th>\n",
       "    </tr>\n",
       "    <tr>\n",
       "      <th>id</th>\n",
       "      <th></th>\n",
       "      <th></th>\n",
       "      <th></th>\n",
       "      <th></th>\n",
       "      <th></th>\n",
       "      <th></th>\n",
       "      <th></th>\n",
       "      <th></th>\n",
       "      <th></th>\n",
       "      <th></th>\n",
       "      <th></th>\n",
       "      <th></th>\n",
       "      <th></th>\n",
       "      <th></th>\n",
       "      <th></th>\n",
       "      <th></th>\n",
       "      <th></th>\n",
       "      <th></th>\n",
       "      <th></th>\n",
       "      <th></th>\n",
       "      <th></th>\n",
       "    </tr>\n",
       "  </thead>\n",
       "  <tbody>\n",
       "    <tr>\n",
       "      <th>121</th>\n",
       "      <td>Бокситогорск</td>\n",
       "      <td>8001</td>\n",
       "      <td>POINT (548021.065 6593118.772)</td>\n",
       "      <td>250.0</td>\n",
       "      <td>1500.0</td>\n",
       "      <td>1000.0</td>\n",
       "      <td>1500.0</td>\n",
       "      <td>500.0</td>\n",
       "      <td>2500.0</td>\n",
       "      <td>1250.0</td>\n",
       "      <td>...</td>\n",
       "      <td>0</td>\n",
       "      <td>0</td>\n",
       "      <td>Бокситогорское городское поселение</td>\n",
       "      <td>Бокситогорский муниципальный район</td>\n",
       "      <td>49.994</td>\n",
       "      <td>81.24</td>\n",
       "      <td>46.869</td>\n",
       "      <td>100.0</td>\n",
       "      <td>49.994</td>\n",
       "      <td>9.374</td>\n",
       "    </tr>\n",
       "  </tbody>\n",
       "</table>\n",
       "<p>1 rows × 101 columns</p>\n",
       "</div>"
      ],
      "text/plain": [
       "        town_name  population                        geometry  \\\n",
       "id                                                              \n",
       "121  Бокситогорск        8001  POINT (548021.065 6593118.772)   \n",
       "\n",
       "     capacity_cafe__coffee  capacity_kindergarten  capacity_school  \\\n",
       "id                                                                   \n",
       "121                  250.0                 1500.0           1000.0   \n",
       "\n",
       "     capacity_public_transport_stop  capacity_library  capacity_parking  \\\n",
       "id                                                                        \n",
       "121                          1500.0             500.0            2500.0   \n",
       "\n",
       "     capacity_railway_station  ...  count_car_service  count_fire_station  \\\n",
       "id                             ...                                          \n",
       "121                    1250.0  ...                  0                   0   \n",
       "\n",
       "                        settlement_name                       district_name  \\\n",
       "id                                                                            \n",
       "121  Бокситогорское городское поселение  Бокситогорский муниципальный район   \n",
       "\n",
       "     ueqi_residential  ueqi_street_networks  ueqi_green_spaces  \\\n",
       "id                                                               \n",
       "121            49.994                 81.24             46.869   \n",
       "\n",
       "     ueqi_public_and_business_infrastructure  \\\n",
       "id                                             \n",
       "121                                    100.0   \n",
       "\n",
       "     ueqi_social_and_leisure_infrastructure  ueqi_citywide_space  \n",
       "id                                                                \n",
       "121                                  49.994                9.374  \n",
       "\n",
       "[1 rows x 101 columns]"
      ]
     },
     "execution_count": 13,
     "metadata": {},
     "output_type": "execute_result"
    }
   ],
   "source": [
    "ueqi_df[ueqi_df.town_name == 'Бокситогорск']"
   ]
  },
  {
   "cell_type": "code",
   "execution_count": 14,
   "metadata": {},
   "outputs": [
    {
     "name": "stdout",
     "output_type": "stream",
     "text": [
      "Updated parameters for Ленинградская область, Бокситогорск\n",
      "Recalculating after updating parameters\n"
     ]
    },
    {
     "name": "stderr",
     "output_type": "stream",
     "text": [
      "100%|██████████| 1106/1106 [00:01<00:00, 769.57it/s]\n"
     ]
    },
    {
     "name": "stdout",
     "output_type": "stream",
     "text": [
      "Recalculation complete.\n"
     ]
    }
   ],
   "source": [
    "name = \"Ленинградская область, Бокситогорск\" # Можно узнать все города из wff.cities\n",
    "\n",
    "# Можно взять параметры из ueqi_df[ueqi_df.town_name == 'Мурино'] ← ВАЖНО! Убедитесь, что вы используете правильное название города без области, но для wff с областью\n",
    "new_params = { # Первичное обновление UEQI для Planter\n",
    "    \"ueqi_residential\":                         49.994,\n",
    "    \"ueqi_street_networks\":                     81.24,\n",
    "    \"ueqi_green_spaces\":                        46.869,\n",
    "    \"ueqi_public_and_business_infrastructure\":  100.0,\n",
    "    \"ueqi_social_and_leisure_infrastructure\":   49.994,\n",
    "    \"ueqi_citywide_space\":                      9.374,\n",
    "}\n",
    "\n",
    "wff.update_city_params(name, new_params)\n",
    "wff.recalculate_after_update()"
   ]
  },
  {
   "cell_type": "code",
   "execution_count": 15,
   "metadata": {},
   "outputs": [],
   "source": [
    "# Выделение городов только по ЛО и сохранение новых значений постоянного населения\n",
    "area = ox.geocode_to_gdf(\"Ленинградская область\")\n",
    "lo_cities = wff.cities.clip(area.to_crs(3857)).copy()\n",
    "lo_cities['population'] = lo_cities['population'] + lo_cities['flows_in'] - lo_cities['flows_out']\n",
    "lo_cities['region_city'] = lo_cities['region_city'].str.split(', ', expand=True)[1] # У TownsNet названия городов без областей, поэтому нужно удалить их из названия\n",
    "lo_cities[['region_city','population']].to_csv(\"data/population.csv\", index=False)"
   ]
  },
  {
   "cell_type": "markdown",
   "metadata": {},
   "source": [
    "### 0.2.3 Обновление населения"
   ]
  },
  {
   "cell_type": "code",
   "execution_count": 16,
   "metadata": {},
   "outputs": [
    {
     "data": {
      "application/vnd.microsoft.datawrangler.viewer.v0+json": {
       "columns": [
        {
         "name": "index",
         "rawType": "object",
         "type": "string"
        },
        {
         "name": "121",
         "rawType": "object",
         "type": "unknown"
        }
       ],
       "ref": "23395a40-6686-4da0-be3e-71f25b111bed",
       "rows": [
        [
         "town_name",
         "Бокситогорск"
        ],
        [
         "population",
         "15849.0"
        ],
        [
         "geometry",
         "POINT (548021.0652682963 6593118.771699116)"
        ],
        [
         "capacity_cafe__coffee",
         "250.0"
        ],
        [
         "capacity_kindergarten",
         "1500.0"
        ],
        [
         "capacity_school",
         "1000.0"
        ],
        [
         "capacity_public_transport_stop",
         "1500.0"
        ],
        [
         "capacity_library",
         "500.0"
        ],
        [
         "capacity_parking",
         "2500.0"
        ],
        [
         "capacity_railway_station",
         "1250.0"
        ],
        [
         "capacity_fire_station",
         "250.0"
        ],
        [
         "capacity_delivery_point__post_office",
         "3500.0"
        ],
        [
         "capacity_cult_object",
         "0.0"
        ],
        [
         "capacity_bank",
         "250.0"
        ],
        [
         "capacity_car_service",
         "1000.0"
        ],
        [
         "capacity_city_hospital",
         "250.0"
        ],
        [
         "capacity_commercial_clinic",
         "250.0"
        ],
        [
         "capacity_convenience",
         "3500.0"
        ],
        [
         "capacity_gas_station",
         "250.0"
        ],
        [
         "capacity_gym__fitness_center",
         "750.0"
        ],
        [
         "capacity_hairdresser__beauty",
         "500.0"
        ],
        [
         "capacity_health_center__dispensary",
         "250.0"
        ],
        [
         "capacity_local_hospital",
         "250.0"
        ],
        [
         "capacity_local_police",
         "250.0"
        ],
        [
         "capacity_park",
         "1750.0"
        ],
        [
         "capacity_pharmacy",
         "750.0"
        ],
        [
         "capacity_playground",
         "250.0"
        ],
        [
         "capacity_police_supporting_point",
         "250.0"
        ],
        [
         "capacity_polyclinic",
         "250.0"
        ],
        [
         "capacity_square__boulevard__forest_park",
         "1750.0"
        ],
        [
         "capacity_supermarket",
         "3500.0"
        ],
        [
         "capacity_workout__school_gym",
         "250.0"
        ],
        [
         "capacity_bar_restaurant",
         "0.0"
        ],
        [
         "capacity_community_center",
         "0.0"
        ],
        [
         "capacity_community_centre_culture_house",
         "0.0"
        ],
        [
         "capacity_zoo",
         "0.0"
        ],
        [
         "capacity_amusement_park",
         "0.0"
        ],
        [
         "capacity_dog_park",
         "0.0"
        ],
        [
         "capacity_houseware",
         "0.0"
        ],
        [
         "capacity_hypermarket",
         "0.0"
        ],
        [
         "capacity_public_space",
         "0.0"
        ],
        [
         "capacity_swimming_pool",
         "0.0"
        ],
        [
         "capacity_skatepark__workout_for_teenagers",
         "0.0"
        ],
        [
         "capacity_art_school",
         "0.0"
        ],
        [
         "capacity_food_court",
         "0.0"
        ],
        [
         "capacity_universal_hall",
         "0.0"
        ],
        [
         "count_kindergarten",
         "0"
        ],
        [
         "count_school",
         "0"
        ],
        [
         "count_health_center__dispensary",
         "0"
        ],
        [
         "count_pharmacy",
         "0"
        ]
       ],
       "shape": {
        "columns": 1,
        "rows": 95
       }
      },
      "text/plain": [
       "town_name                                               Бокситогорск\n",
       "population                                                   15849.0\n",
       "geometry                 POINT (548021.0652682963 6593118.771699116)\n",
       "capacity_cafe__coffee                                          250.0\n",
       "capacity_kindergarten                                         1500.0\n",
       "                                            ...                     \n",
       "count_railway_station                                              0\n",
       "count_car_service                                                  0\n",
       "count_fire_station                                                 0\n",
       "settlement_name                   Бокситогорское городское поселение\n",
       "district_name                     Бокситогорский муниципальный район\n",
       "Name: 121, Length: 95, dtype: object"
      ]
     },
     "execution_count": 16,
     "metadata": {},
     "output_type": "execute_result"
    }
   ],
   "source": [
    "# update_population(region.model, towns_df, path='data/population.csv')\n",
    "\n",
    "population = pd.read_csv('data/population.csv') \n",
    "region.update_population(population)\n",
    "\n",
    "ueqi_df = region.calculate_ueqi()\n",
    "region[121] # Проверим Бокситогорск\n",
    "\n",
    "### ====== Принимаем это за базовое население ====== ###"
   ]
  },
  {
   "cell_type": "markdown",
   "metadata": {},
   "source": [
    "# 1. Выбор города"
   ]
  },
  {
   "cell_type": "code",
   "execution_count": 17,
   "metadata": {},
   "outputs": [
    {
     "data": {
      "application/vnd.microsoft.datawrangler.viewer.v0+json": {
       "columns": [
        {
         "name": "index",
         "rawType": "int64",
         "type": "integer"
        },
        {
         "name": "region_city",
         "rawType": "object",
         "type": "string"
        },
        {
         "name": "ueqi_residential",
         "rawType": "float64",
         "type": "float"
        },
        {
         "name": "ueqi_street_networks",
         "rawType": "float64",
         "type": "float"
        },
        {
         "name": "ueqi_green_spaces",
         "rawType": "float64",
         "type": "float"
        },
        {
         "name": "ueqi_public_and_business_infrastructure",
         "rawType": "float64",
         "type": "float"
        },
        {
         "name": "ueqi_social_and_leisure_infrastructure",
         "rawType": "float64",
         "type": "float"
        },
        {
         "name": "ueqi_citywide_space",
         "rawType": "float64",
         "type": "float"
        }
       ],
       "ref": "abf340c8-b29b-491a-b14b-ba9c3156153e",
       "rows": [
        [
         "106",
         "Ленинградская область, Бокситогорск",
         "49.994",
         "81.24",
         "46.869",
         "100.0",
         "49.994",
         "9.374"
        ]
       ],
       "shape": {
        "columns": 7,
        "rows": 1
       }
      },
      "text/html": [
       "<div>\n",
       "<style scoped>\n",
       "    .dataframe tbody tr th:only-of-type {\n",
       "        vertical-align: middle;\n",
       "    }\n",
       "\n",
       "    .dataframe tbody tr th {\n",
       "        vertical-align: top;\n",
       "    }\n",
       "\n",
       "    .dataframe thead th {\n",
       "        text-align: right;\n",
       "    }\n",
       "</style>\n",
       "<table border=\"1\" class=\"dataframe\">\n",
       "  <thead>\n",
       "    <tr style=\"text-align: right;\">\n",
       "      <th></th>\n",
       "      <th>region_city</th>\n",
       "      <th>ueqi_residential</th>\n",
       "      <th>ueqi_street_networks</th>\n",
       "      <th>ueqi_green_spaces</th>\n",
       "      <th>ueqi_public_and_business_infrastructure</th>\n",
       "      <th>ueqi_social_and_leisure_infrastructure</th>\n",
       "      <th>ueqi_citywide_space</th>\n",
       "    </tr>\n",
       "  </thead>\n",
       "  <tbody>\n",
       "    <tr>\n",
       "      <th>106</th>\n",
       "      <td>Ленинградская область, Бокситогорск</td>\n",
       "      <td>49.994</td>\n",
       "      <td>81.24</td>\n",
       "      <td>46.869</td>\n",
       "      <td>100.0</td>\n",
       "      <td>49.994</td>\n",
       "      <td>9.374</td>\n",
       "    </tr>\n",
       "  </tbody>\n",
       "</table>\n",
       "</div>"
      ],
      "text/plain": [
       "                             region_city  ueqi_residential  \\\n",
       "106  Ленинградская область, Бокситогорск            49.994   \n",
       "\n",
       "     ueqi_street_networks  ueqi_green_spaces  \\\n",
       "106                 81.24             46.869   \n",
       "\n",
       "     ueqi_public_and_business_infrastructure  \\\n",
       "106                                    100.0   \n",
       "\n",
       "     ueqi_social_and_leisure_infrastructure  ueqi_citywide_space  \n",
       "106                                  49.994                9.374  "
      ]
     },
     "execution_count": 17,
     "metadata": {},
     "output_type": "execute_result"
    }
   ],
   "source": [
    "name = 'Бокситогорск'\n",
    "get_ueqi(wff, name) # Просмотр нынешных значений UEQI для города"
   ]
  },
  {
   "cell_type": "markdown",
   "metadata": {},
   "source": [
    "# 2. Изменение UEQI"
   ]
  },
  {
   "cell_type": "code",
   "execution_count": 18,
   "metadata": {},
   "outputs": [
    {
     "name": "stdout",
     "output_type": "stream",
     "text": [
      "Updated parameters for Ленинградская область, Бокситогорск\n",
      "Recalculating after updating parameters\n"
     ]
    },
    {
     "name": "stderr",
     "output_type": "stream",
     "text": [
      "100%|██████████| 1106/1106 [00:01<00:00, 766.02it/s]\n"
     ]
    },
    {
     "name": "stdout",
     "output_type": "stream",
     "text": [
      "Recalculation complete.\n"
     ]
    }
   ],
   "source": [
    "new_params = {\n",
    "    # \"ueqi_residential\":                         49.994,\n",
    "    # \"ueqi_street_networks\":                     81.24,\n",
    "    \"ueqi_green_spaces\":                        56.869, # +10 UEQI\n",
    "    # \"ueqi_public_and_business_infrastructure\":  100.0,\n",
    "    # \"ueqi_social_and_leisure_infrastructure\":   49.994,\n",
    "    # \"ueqi_citywide_space\":                      9.374,\n",
    "}\n",
    "\n",
    "# Update the city data in the DataFrame\n",
    "wff.update_city_params('Ленинградская область, Бокситогорск', new_params)\n",
    "wff.recalculate_after_update()\n",
    "\n",
    "# Выделение области\n",
    "area = ox.geocode_to_gdf(\"Ленинградская область\")\n",
    "highlighted_cities = wff.cities.clip(area.to_crs(3857)).copy()\n",
    "highlighted_cities['population'] = highlighted_cities['population'] + highlighted_cities['flows_in'] - highlighted_cities['flows_out']\n",
    "highlighted_cities['region_city'] = highlighted_cities['region_city'].str.split(', ', expand=True)[1] # У TownsNet названия городов без областей, поэтому нужно удалить их из названия\n",
    "highlighted_cities[['region_city', 'population']].to_csv(\"data/population_new.csv\", index=False)"
   ]
  },
  {
   "cell_type": "code",
   "execution_count": 19,
   "metadata": {},
   "outputs": [
    {
     "data": {
      "application/vnd.microsoft.datawrangler.viewer.v0+json": {
       "columns": [
        {
         "name": "index",
         "rawType": "object",
         "type": "string"
        },
        {
         "name": "121",
         "rawType": "object",
         "type": "unknown"
        }
       ],
       "ref": "6f5298f1-6c4c-4c9c-a4a5-5221933c54a6",
       "rows": [
        [
         "town_name",
         "Бокситогорск"
        ],
        [
         "population",
         "20200.0"
        ],
        [
         "geometry",
         "POINT (548021.0652682963 6593118.771699116)"
        ],
        [
         "capacity_cafe__coffee",
         "250.0"
        ],
        [
         "capacity_kindergarten",
         "1500.0"
        ],
        [
         "capacity_school",
         "1000.0"
        ],
        [
         "capacity_public_transport_stop",
         "1500.0"
        ],
        [
         "capacity_library",
         "500.0"
        ],
        [
         "capacity_parking",
         "2500.0"
        ],
        [
         "capacity_railway_station",
         "1250.0"
        ],
        [
         "capacity_fire_station",
         "250.0"
        ],
        [
         "capacity_delivery_point__post_office",
         "3500.0"
        ],
        [
         "capacity_cult_object",
         "0.0"
        ],
        [
         "capacity_bank",
         "250.0"
        ],
        [
         "capacity_car_service",
         "1000.0"
        ],
        [
         "capacity_city_hospital",
         "250.0"
        ],
        [
         "capacity_commercial_clinic",
         "250.0"
        ],
        [
         "capacity_convenience",
         "3500.0"
        ],
        [
         "capacity_gas_station",
         "250.0"
        ],
        [
         "capacity_gym__fitness_center",
         "750.0"
        ],
        [
         "capacity_hairdresser__beauty",
         "500.0"
        ],
        [
         "capacity_health_center__dispensary",
         "250.0"
        ],
        [
         "capacity_local_hospital",
         "250.0"
        ],
        [
         "capacity_local_police",
         "250.0"
        ],
        [
         "capacity_park",
         "1750.0"
        ],
        [
         "capacity_pharmacy",
         "750.0"
        ],
        [
         "capacity_playground",
         "250.0"
        ],
        [
         "capacity_police_supporting_point",
         "250.0"
        ],
        [
         "capacity_polyclinic",
         "250.0"
        ],
        [
         "capacity_square__boulevard__forest_park",
         "1750.0"
        ],
        [
         "capacity_supermarket",
         "3500.0"
        ],
        [
         "capacity_workout__school_gym",
         "250.0"
        ],
        [
         "capacity_bar_restaurant",
         "0.0"
        ],
        [
         "capacity_community_center",
         "0.0"
        ],
        [
         "capacity_community_centre_culture_house",
         "0.0"
        ],
        [
         "capacity_zoo",
         "0.0"
        ],
        [
         "capacity_amusement_park",
         "0.0"
        ],
        [
         "capacity_dog_park",
         "0.0"
        ],
        [
         "capacity_houseware",
         "0.0"
        ],
        [
         "capacity_hypermarket",
         "0.0"
        ],
        [
         "capacity_public_space",
         "0.0"
        ],
        [
         "capacity_swimming_pool",
         "0.0"
        ],
        [
         "capacity_skatepark__workout_for_teenagers",
         "0.0"
        ],
        [
         "capacity_art_school",
         "0.0"
        ],
        [
         "capacity_food_court",
         "0.0"
        ],
        [
         "capacity_universal_hall",
         "0.0"
        ],
        [
         "count_kindergarten",
         "0"
        ],
        [
         "count_school",
         "0"
        ],
        [
         "count_health_center__dispensary",
         "0"
        ],
        [
         "count_pharmacy",
         "0"
        ]
       ],
       "shape": {
        "columns": 1,
        "rows": 95
       }
      },
      "text/plain": [
       "town_name                                               Бокситогорск\n",
       "population                                                   20200.0\n",
       "geometry                 POINT (548021.0652682963 6593118.771699116)\n",
       "capacity_cafe__coffee                                          250.0\n",
       "capacity_kindergarten                                         1500.0\n",
       "                                            ...                     \n",
       "count_railway_station                                              0\n",
       "count_car_service                                                  0\n",
       "count_fire_station                                                 0\n",
       "settlement_name                   Бокситогорское городское поселение\n",
       "district_name                     Бокситогорский муниципальный район\n",
       "Name: 121, Length: 95, dtype: object"
      ]
     },
     "execution_count": 19,
     "metadata": {},
     "output_type": "execute_result"
    }
   ],
   "source": [
    "# Обновим население городов после изменения UEQI\n",
    "population_new = pd.read_csv('data/population_new.csv') \n",
    "region.update_population(population_new)\n",
    "region[121] # Проверим Бокситогорск\n",
    "\n",
    "### ====== Принимаем это за новое население ====== ###"
   ]
  },
  {
   "cell_type": "markdown",
   "metadata": {},
   "source": [
    "# 3. Расчет матриц переходов по новым UEQI"
   ]
  },
  {
   "cell_type": "markdown",
   "metadata": {},
   "source": [
    "## 3.1 Расчет количества и добавление необходимого сервиса"
   ]
  },
  {
   "cell_type": "code",
   "execution_count": 20,
   "metadata": {},
   "outputs": [
    {
     "name": "stdout",
     "output_type": "stream",
     "text": [
      "Изменение capacity на 10% для города Бокситогорск: 2020 мест\n"
     ]
    }
   ],
   "source": [
    "# Посмотим, на сколько нужно поднять\n",
    "change_capacity = count_change_capacity(region.towns, name, 10)\n",
    "print(f\"Изменение capacity на 10% для города {name}: {change_capacity} мест\")"
   ]
  },
  {
   "cell_type": "code",
   "execution_count": 21,
   "metadata": {},
   "outputs": [
    {
     "name": "stdout",
     "output_type": "stream",
     "text": [
      "Случайный обновленный сервис: park\n",
      "======= Таблица для проверки новых сервисов =======\n"
     ]
    },
    {
     "data": {
      "text/html": [
       "<div>\n",
       "<style scoped>\n",
       "    .dataframe tbody tr th:only-of-type {\n",
       "        vertical-align: middle;\n",
       "    }\n",
       "\n",
       "    .dataframe tbody tr th {\n",
       "        vertical-align: top;\n",
       "    }\n",
       "\n",
       "    .dataframe thead th {\n",
       "        text-align: right;\n",
       "    }\n",
       "</style>\n",
       "<table border=\"1\" class=\"dataframe\">\n",
       "  <thead>\n",
       "    <tr style=\"text-align: right;\">\n",
       "      <th></th>\n",
       "      <th>town</th>\n",
       "      <th>service_type</th>\n",
       "      <th>geometry</th>\n",
       "      <th>capacity</th>\n",
       "    </tr>\n",
       "  </thead>\n",
       "  <tbody>\n",
       "    <tr>\n",
       "      <th>175</th>\n",
       "      <td>Бокситогорск</td>\n",
       "      <td>park</td>\n",
       "      <td>POINT (547977.638 6593091.073)</td>\n",
       "      <td>250</td>\n",
       "    </tr>\n",
       "    <tr>\n",
       "      <th>176</th>\n",
       "      <td>Бокситогорск</td>\n",
       "      <td>park</td>\n",
       "      <td>POINT (548120.962 6592967.185)</td>\n",
       "      <td>250</td>\n",
       "    </tr>\n",
       "    <tr>\n",
       "      <th>177</th>\n",
       "      <td>Бокситогорск</td>\n",
       "      <td>park</td>\n",
       "      <td>POINT (548140.672 6592774.843)</td>\n",
       "      <td>250</td>\n",
       "    </tr>\n",
       "    <tr>\n",
       "      <th>178</th>\n",
       "      <td>Бокситогорск</td>\n",
       "      <td>park</td>\n",
       "      <td>POINT (548041.259 6593578.502)</td>\n",
       "      <td>250</td>\n",
       "    </tr>\n",
       "    <tr>\n",
       "      <th>179</th>\n",
       "      <td>Бокситогорск</td>\n",
       "      <td>park</td>\n",
       "      <td>POINT (548116.559 6593224.947)</td>\n",
       "      <td>250</td>\n",
       "    </tr>\n",
       "    <tr>\n",
       "      <th>180</th>\n",
       "      <td>Бокситогорск</td>\n",
       "      <td>park</td>\n",
       "      <td>POINT (547652.597 6593571.952)</td>\n",
       "      <td>250</td>\n",
       "    </tr>\n",
       "    <tr>\n",
       "      <th>181</th>\n",
       "      <td>Бокситогорск</td>\n",
       "      <td>park</td>\n",
       "      <td>POINT (547814.714 6593576.322)</td>\n",
       "      <td>250</td>\n",
       "    </tr>\n",
       "    <tr>\n",
       "      <th>182</th>\n",
       "      <td>Бокситогорск</td>\n",
       "      <td>park</td>\n",
       "      <td>POINT (547745.356 6593398.051)</td>\n",
       "      <td>2020</td>\n",
       "    </tr>\n",
       "  </tbody>\n",
       "</table>\n",
       "</div>"
      ],
      "text/plain": [
       "             town service_type                        geometry  capacity\n",
       "175  Бокситогорск         park  POINT (547977.638 6593091.073)       250\n",
       "176  Бокситогорск         park  POINT (548120.962 6592967.185)       250\n",
       "177  Бокситогорск         park  POINT (548140.672 6592774.843)       250\n",
       "178  Бокситогорск         park  POINT (548041.259 6593578.502)       250\n",
       "179  Бокситогорск         park  POINT (548116.559 6593224.947)       250\n",
       "180  Бокситогорск         park  POINT (547652.597 6593571.952)       250\n",
       "181  Бокситогорск         park  POINT (547814.714 6593576.322)       250\n",
       "182  Бокситогорск         park  POINT (547745.356 6593398.051)      2020"
      ]
     },
     "execution_count": 21,
     "metadata": {},
     "output_type": "execute_result"
    }
   ],
   "source": [
    "updated_service = region.update_service(name, change_capacity, new_params)\n",
    "print(f'Случайный обновленный сервис: {updated_service}')\n",
    "\n",
    "print('======= Таблица для проверки новых сервисов =======')\n",
    "region.services[(region.services.town.str.contains(name)) & (region.services.service_type == updated_service)]"
   ]
  },
  {
   "cell_type": "markdown",
   "metadata": {},
   "source": [
    "## 3.2 Расчет матриц переходов"
   ]
  },
  {
   "cell_type": "code",
   "execution_count": null,
   "metadata": {},
   "outputs": [],
   "source": [
    "region.calculate_provision(['park'])"
   ]
  },
  {
   "cell_type": "markdown",
   "metadata": {},
   "source": [
    "# 4. Расчет данных для городов"
   ]
  },
  {
   "cell_type": "markdown",
   "metadata": {},
   "source": [
    "## 4.1 Чтение матриц переходов"
   ]
  },
  {
   "cell_type": "code",
   "execution_count": null,
   "metadata": {},
   "outputs": [],
   "source": [
    "use_updated = False\n",
    "\n",
    "if use_updated:\n",
    "    population = pd.read_csv('data/population_new.csv') \n",
    "    region.update_population(population)\n",
    "else:\n",
    "    population = pd.read_csv('data/population.csv') \n",
    "    region.update_population(population)\n",
    "\n",
    "region.load_migration_matrix(['RECREATION'], \n",
    "                            matrix_dir='data/provision',\n",
    "                            use_updated=use_updated, # Внимание! Если True, использовать новое население. Если False, использовать базовое.\n",
    "                            average=True,\n",
    "                            anchors=anchor_settlement)"
   ]
  },
  {
   "cell_type": "code",
   "execution_count": null,
   "metadata": {},
   "outputs": [],
   "source": [
    "mobility = region.analyze_mobility(anchor_threshold=90)"
   ]
  },
  {
   "cell_type": "markdown",
   "metadata": {},
   "source": [
    "# 5. Генерация карты миграции"
   ]
  },
  {
   "cell_type": "code",
   "execution_count": null,
   "metadata": {},
   "outputs": [],
   "source": [
    "fmap = region.create_map()\n",
    "fmap"
   ]
  }
 ],
 "metadata": {
  "kernelspec": {
   "display_name": ".venv",
   "language": "python",
   "name": "python3"
  },
  "language_info": {
   "codemirror_mode": {
    "name": "ipython",
    "version": 3
   },
   "file_extension": ".py",
   "mimetype": "text/x-python",
   "name": "python",
   "nbconvert_exporter": "python",
   "pygments_lexer": "ipython3",
   "version": "3.10.11"
  }
 },
 "nbformat": 4,
 "nbformat_minor": 2
}
