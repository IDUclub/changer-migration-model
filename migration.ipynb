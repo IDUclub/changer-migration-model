{
 "cells": [
  {
   "cell_type": "code",
   "execution_count": null,
   "id": "2ac58534",
   "metadata": {},
   "outputs": [],
   "source": [
    "# Зависимости не дружат, приходится переустанавливать отдельно\n",
    "%pip install --no-deps scikit-mobility==1.3.1 geopandas==1.1.0 -qq"
   ]
  },
  {
   "cell_type": "markdown",
   "id": "26966501",
   "metadata": {},
   "source": [
    "## 0.1 Импорт"
   ]
  },
  {
   "cell_type": "code",
   "execution_count": null,
   "id": "cc665745",
   "metadata": {},
   "outputs": [
    {
     "name": "stderr",
     "output_type": "stream",
     "text": [
      "d:\\programming\\github\\changer-migration-model\\.venv\\lib\\site-packages\\tqdm\\auto.py:21: TqdmWarning: IProgress not found. Please update jupyter and ipywidgets. See https://ipywidgets.readthedocs.io/en/stable/user_install.html\n",
      "  from .autonotebook import tqdm as notebook_tqdm\n"
     ]
    }
   ],
   "source": [
    "import osmnx as ox\n",
    "import pandas as pd\n",
    "import geopandas as gpd\n",
    "\n",
    "from changer_migration.planter import *\n",
    "from changer_migration.model import MigrationFlowModel\n",
    "from changer_migration.ueqi import count_change_capacity, get_ueqi"
   ]
  },
  {
   "cell_type": "markdown",
   "id": "fa9cc13c",
   "metadata": {},
   "source": [
    "## 0.2 Загрузка и подготовка данных"
   ]
  },
  {
   "cell_type": "markdown",
   "id": "3e1b9f34",
   "metadata": {},
   "source": [
    "### 0.2.1 Данные из и для TownsNet"
   ]
  },
  {
   "cell_type": "code",
   "execution_count": null,
   "id": "092600f3",
   "metadata": {},
   "outputs": [],
   "source": [
    "# 0) Входные пути\n",
    "REGION_PKL = \"data/lo_region.pickle\"        # pickle с Region\n",
    "MATRIX_DIR = \"data/provision\"               # где лежат *_links.parquet\n",
    "SEED = 42\n",
    "\n",
    "region = MigrationFlowModel.from_pickle(REGION_PKL, seed=SEED)"
   ]
  },
  {
   "cell_type": "code",
   "execution_count": null,
   "id": "8c36cd95",
   "metadata": {},
   "outputs": [],
   "source": [
    "supporting_cities = gpd.read_parquet(\"data/1_polygons.parquet\") # Опорные города ЛО\n",
    "anchor_settlement = pd.read_csv('data/anchor_settlement.csv') # Города/деревни ЛО\n",
    "ueqi_df = region.calculate_ueqi() # Расчет UEQI по новой формуле"
   ]
  },
  {
   "cell_type": "markdown",
   "id": "4e313564",
   "metadata": {},
   "source": [
    "### 0.2.2 Первичное обновление UEQI для Planter\n",
    "потому что мы не знаем как подсчитаны старые UEQI для городов"
   ]
  },
  {
   "cell_type": "code",
   "execution_count": null,
   "id": "8c92c20c",
   "metadata": {},
   "outputs": [],
   "source": [
    "# Загрузка модели\n",
    "wff = WorkForceFlows.from_pickle('data/wff_1812 new.pkl')"
   ]
  },
  {
   "cell_type": "code",
   "execution_count": null,
   "id": "018ca5c3",
   "metadata": {},
   "outputs": [],
   "source": [
    "ueqi_df[ueqi_df.town_name == 'Бокситогорск']"
   ]
  },
  {
   "cell_type": "code",
   "execution_count": null,
   "id": "fe6675eb",
   "metadata": {},
   "outputs": [],
   "source": [
    "name = \"Ленинградская область, Бокситогорск\" # Можно узнать все города из wff.cities\n",
    "\n",
    "# Можно взять параметры из ueqi_df[ueqi_df.town_name == 'Мурино'] ← ВАЖНО! Убедитесь, что вы используете правильное название города без области, но для wff с областью\n",
    "new_params = { # Первичное обновление UEQI для Planter\n",
    "    \"ueqi_residential\":                         49.994,\n",
    "    \"ueqi_street_networks\":                     81.24,\n",
    "    \"ueqi_green_spaces\":                        46.869,\n",
    "    \"ueqi_public_and_business_infrastructure\":  100.0,\n",
    "    \"ueqi_social_and_leisure_infrastructure\":   49.994,\n",
    "    \"ueqi_citywide_space\":                      9.374,\n",
    "}\n",
    "\n",
    "wff.update_city_params(name, new_params)\n",
    "wff.recalculate_after_update()"
   ]
  },
  {
   "cell_type": "code",
   "execution_count": null,
   "id": "2b0fbc2d",
   "metadata": {},
   "outputs": [],
   "source": [
    "# Выделение городов только по ЛО и сохранение новых значений постоянного населения\n",
    "area = ox.geocode_to_gdf(\"Ленинградская область\")\n",
    "lo_cities = wff.cities.clip(area.to_crs(3857)).copy()\n",
    "lo_cities['population'] = lo_cities['population'] + lo_cities['flows_in'] - lo_cities['flows_out']\n",
    "lo_cities['region_city'] = lo_cities['region_city'].str.split(', ', expand=True)[1] # У TownsNet названия городов без областей, поэтому нужно удалить их из названия\n",
    "lo_cities[['region_city','population']].to_csv(\"data/population.csv\", index=False)"
   ]
  },
  {
   "cell_type": "markdown",
   "id": "f610258e",
   "metadata": {},
   "source": [
    "### 0.2.3 Обновление населения"
   ]
  },
  {
   "cell_type": "code",
   "execution_count": null,
   "id": "cb6d0477",
   "metadata": {},
   "outputs": [],
   "source": [
    "population = pd.read_csv('data/population.csv') \n",
    "region.update_population(population)\n",
    "\n",
    "ueqi_df = region.calculate_ueqi()\n",
    "region[121] # Проверим Бокситогорск\n",
    "\n",
    "### ====== Принимаем это за базовое население ====== ###"
   ]
  },
  {
   "cell_type": "markdown",
   "id": "c665bdc8",
   "metadata": {},
   "source": [
    "# 1. Выбор города"
   ]
  },
  {
   "cell_type": "code",
   "execution_count": null,
   "id": "10bc55d7",
   "metadata": {},
   "outputs": [],
   "source": [
    "name = 'Бокситогорск'\n",
    "get_ueqi(wff, name) # Просмотр нынешных значений UEQI для города"
   ]
  },
  {
   "cell_type": "markdown",
   "id": "7f6effca",
   "metadata": {},
   "source": [
    "# 2. Изменение UEQI"
   ]
  },
  {
   "cell_type": "code",
   "execution_count": null,
   "id": "12794617",
   "metadata": {},
   "outputs": [],
   "source": [
    "new_params = {\n",
    "    # \"ueqi_residential\":                         49.994,\n",
    "    # \"ueqi_street_networks\":                     81.24,\n",
    "    \"ueqi_green_spaces\":                        56.869, # +10 UEQI\n",
    "    # \"ueqi_public_and_business_infrastructure\":  100.0,\n",
    "    # \"ueqi_social_and_leisure_infrastructure\":   49.994,\n",
    "    # \"ueqi_citywide_space\":                      9.374,\n",
    "}\n",
    "\n",
    "# Update the city data in the DataFrame\n",
    "wff.update_city_params('Ленинградская область, Бокситогорск', new_params)\n",
    "wff.recalculate_after_update()\n",
    "\n",
    "# Выделение области\n",
    "area = ox.geocode_to_gdf(\"Ленинградская область\")\n",
    "highlighted_cities = wff.cities.clip(area.to_crs(3857)).copy()\n",
    "highlighted_cities['population'] = highlighted_cities['population'] + highlighted_cities['flows_in'] - highlighted_cities['flows_out']\n",
    "highlighted_cities['region_city'] = highlighted_cities['region_city'].str.split(', ', expand=True)[1] # У TownsNet названия городов без областей, поэтому нужно удалить их из названия\n",
    "highlighted_cities[['region_city', 'population']].to_csv(\"data/population_new.csv\", index=False)"
   ]
  },
  {
   "cell_type": "code",
   "execution_count": null,
   "id": "3b06670c",
   "metadata": {},
   "outputs": [],
   "source": [
    "# Обновим население городов после изменения UEQI\n",
    "population_new = pd.read_csv('data/population_new.csv') \n",
    "region.update_population(population_new)\n",
    "region[121] # Проверим Бокситогорск\n",
    "\n",
    "### ====== Принимаем это за новое население ====== ###"
   ]
  },
  {
   "cell_type": "markdown",
   "id": "4b95f187",
   "metadata": {},
   "source": [
    "# 3. Расчет матриц переходов по новым UEQI"
   ]
  },
  {
   "cell_type": "markdown",
   "id": "4533f5e0",
   "metadata": {},
   "source": [
    "## 3.1 Расчет количества и добавление необходимого сервиса"
   ]
  },
  {
   "cell_type": "code",
   "execution_count": null,
   "id": "fec07a34",
   "metadata": {},
   "outputs": [],
   "source": [
    "# Посмотим, на сколько нужно поднять\n",
    "change_capacity = count_change_capacity(region.towns, name, 10)\n",
    "print(f\"Изменение capacity на 10% для города {name}: {change_capacity} мест\")"
   ]
  },
  {
   "cell_type": "code",
   "execution_count": null,
   "id": "da5c3151",
   "metadata": {},
   "outputs": [],
   "source": [
    "updated_service = region.update_service(name, change_capacity, new_params)\n",
    "print(f'Случайный обновленный сервис: {updated_service}')\n",
    "\n",
    "print('======= Таблица для проверки новых сервисов =======')\n",
    "region.services[(region.services.town.str.contains(name)) & (region.services.service_type == updated_service)]"
   ]
  },
  {
   "cell_type": "markdown",
   "id": "60506b8c",
   "metadata": {},
   "source": [
    "## 3.2 Расчет матриц переходов"
   ]
  },
  {
   "cell_type": "code",
   "execution_count": null,
   "id": "c574217d",
   "metadata": {},
   "outputs": [],
   "source": [
    "# Список сервисов нужно передать в формате list\n",
    "region.calculate_provision([updated_service], data_path='data/provision/new', n_jobs=1)"
   ]
  }
 ],
 "metadata": {
  "language_info": {
   "name": "python"
  }
 },
 "nbformat": 4,
 "nbformat_minor": 5
}
